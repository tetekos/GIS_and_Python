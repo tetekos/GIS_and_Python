{
 "cells": [
  {
   "cell_type": "markdown",
   "metadata": {},
   "source": [
    "### Fiona and Shapely "
   ]
  },
  {
   "cell_type": "markdown",
   "metadata": {},
   "source": [
    "Fiona for input and output\n",
    "Shapely for making and manipulating geodata"
   ]
  },
  {
   "cell_type": "markdown",
   "metadata": {},
   "source": [
    "https://macwright.org/2012/10/31/gis-with-python-shapely-fiona.html"
   ]
  },
  {
   "cell_type": "code",
   "execution_count": 36,
   "metadata": {},
   "outputs": [
    {
     "name": "stdout",
     "output_type": "stream",
     "text": [
      "{'lat': '41.88', 'lon': '-87.63', 'name': 'Chicago'}\n",
      "{'lat': '39.101', 'lon': '-94.584', 'name': 'Kansas City'}\n"
     ]
    }
   ],
   "source": [
    "# first lets read the csv\n",
    "import csv\n",
    "with open('C:\\Users\\esergios\\Desktop\\some.csv','rb') as f:\n",
    "    reader = csv.DictReader(f)\n",
    "    for row in reader:\n",
    "        print row"
   ]
  },
  {
   "cell_type": "code",
   "execution_count": 57,
   "metadata": {},
   "outputs": [],
   "source": [
    "# lets import geometry from shapely\n",
    "from shapely.geometry import Point\n",
    "\n",
    "# we need to reopen the csv\n",
    "with open('C:\\Users\\esergios\\Desktop\\some.csv','rb') as f:\n",
    "    reader = csv.DictReader(f)\n",
    "    for row in reader:\n",
    "        point = Point(float(row['lon']), float(row['lat']))"
   ]
  },
  {
   "cell_type": "code",
   "execution_count": 58,
   "metadata": {},
   "outputs": [
    {
     "data": {
      "image/svg+xml": [
       "<svg xmlns=\"http://www.w3.org/2000/svg\" xmlns:xlink=\"http://www.w3.org/1999/xlink\" width=\"100.0\" height=\"100.0\" viewBox=\"-95.584 38.101 2.0 2.0\" preserveAspectRatio=\"xMinYMin meet\"><g transform=\"matrix(1,0,0,-1,0,78.202)\"><circle cx=\"-94.584\" cy=\"39.101\" r=\"0.06\" stroke=\"#555555\" stroke-width=\"0.02\" fill=\"#66cc99\" opacity=\"0.6\" /></g></svg>"
      ],
      "text/plain": [
       "<shapely.geometry.point.Point at 0x88719b0>"
      ]
     },
     "execution_count": 58,
     "metadata": {},
     "output_type": "execute_result"
    }
   ],
   "source": [
    "point"
   ]
  },
  {
   "cell_type": "code",
   "execution_count": 60,
   "metadata": {},
   "outputs": [
    {
     "name": "stdout",
     "output_type": "stream",
     "text": [
      "{'type': 'Point', 'coordinates': (-94.584, 39.101)}\n"
     ]
    }
   ],
   "source": [
    "print mapping(point)"
   ]
  },
  {
   "cell_type": "code",
   "execution_count": 61,
   "metadata": {},
   "outputs": [],
   "source": [
    "# to save these points import fiona\n",
    "import csv\n",
    "from shapely.geometry import Point, mapping\n",
    "from fiona import collection\n",
    "\n",
    "\n",
    "schema = { 'properties': { 'name': 'str' } , 'geometry': 'Point', }\n",
    "\n",
    "\n",
    "with collection(\"C:\\Users\\esergios\\Desktop\\points.shp\", \"w\", \"ESRI Shapefile\", schema) as output:\n",
    "    \n",
    "    with open('C:\\Users\\esergios\\Desktop\\some.csv', 'rb') as f:\n",
    "        reader = csv.DictReader(f)\n",
    "        \n",
    "        for row in reader:\n",
    "            point = Point(float(row['lon']), float(row['lat']))\n",
    "           \n",
    "            output.write({\n",
    "                'properties': {\n",
    "                    'name': row['name']\n",
    "                },\n",
    "                'geometry': mapping(point)\n",
    "            })\n"
   ]
  },
  {
   "cell_type": "markdown",
   "metadata": {},
   "source": [
    "### Geopandas, Folium and Shapely "
   ]
  },
  {
   "cell_type": "markdown",
   "metadata": {},
   "source": [
    "Geopandas to read shapefiles, Fiona to plot them on a map and Shapely to give crs"
   ]
  },
  {
   "cell_type": "code",
   "execution_count": 116,
   "metadata": {},
   "outputs": [],
   "source": [
    "import folium\n",
    "import geopandas\n",
    "%matplotlib inline\n",
    "\n",
    "# read the shapefile\n",
    "pnt_gdf = geopandas.GeoDataFrame.from_file(r'C:\\Users\\esergios\\Desktop\\points.shp') "
   ]
  },
  {
   "cell_type": "code",
   "execution_count": 117,
   "metadata": {},
   "outputs": [
    {
     "data": {
      "text/html": [
       "<div>\n",
       "<style>\n",
       "    .dataframe thead tr:only-child th {\n",
       "        text-align: right;\n",
       "    }\n",
       "\n",
       "    .dataframe thead th {\n",
       "        text-align: left;\n",
       "    }\n",
       "\n",
       "    .dataframe tbody tr th {\n",
       "        vertical-align: top;\n",
       "    }\n",
       "</style>\n",
       "<table border=\"1\" class=\"dataframe\">\n",
       "  <thead>\n",
       "    <tr style=\"text-align: right;\">\n",
       "      <th></th>\n",
       "      <th>name</th>\n",
       "      <th>geometry</th>\n",
       "    </tr>\n",
       "  </thead>\n",
       "  <tbody>\n",
       "    <tr>\n",
       "      <th>0</th>\n",
       "      <td>Chicago</td>\n",
       "      <td>POINT (-87.63 41.88)</td>\n",
       "    </tr>\n",
       "    <tr>\n",
       "      <th>1</th>\n",
       "      <td>Kansas City</td>\n",
       "      <td>POINT (-94.584 39.101)</td>\n",
       "    </tr>\n",
       "  </tbody>\n",
       "</table>\n",
       "</div>"
      ],
      "text/plain": [
       "          name                geometry\n",
       "0      Chicago    POINT (-87.63 41.88)\n",
       "1  Kansas City  POINT (-94.584 39.101)"
      ]
     },
     "execution_count": 117,
     "metadata": {},
     "output_type": "execute_result"
    }
   ],
   "source": [
    "# check the geodataframe\n",
    "pnt_gdf"
   ]
  },
  {
   "cell_type": "code",
   "execution_count": 87,
   "metadata": {},
   "outputs": [
    {
     "data": {
      "text/plain": [
       "<matplotlib.axes._subplots.AxesSubplot at 0x11d807f0>"
      ]
     },
     "execution_count": 87,
     "metadata": {},
     "output_type": "execute_result"
    },
    {
     "data": {
      "image/png": "[encoded data removed]",
      "text/plain": [
       "<matplotlib.figure.Figure at 0x13538400>"
      ]
     },
     "metadata": {},
     "output_type": "display_data"
    }
   ],
   "source": [
    "# plot them to check how they look like\n",
    "pnt_gdf.plot()"
   ]
  },
  {
   "cell_type": "code",
   "execution_count": 118,
   "metadata": {},
   "outputs": [
    {
     "data": {
      "text/plain": [
       "{}"
      ]
     },
     "execution_count": 118,
     "metadata": {},
     "output_type": "execute_result"
    }
   ],
   "source": [
    "# its time for the coordinate reference system because without we cant plot on leaflet\n",
    "pnt_gdf.crs"
   ]
  },
  {
   "cell_type": "code",
   "execution_count": 119,
   "metadata": {},
   "outputs": [
    {
     "data": {
      "text/plain": [
       "{'init': 'epsg:4326', 'no_defs': True}"
      ]
     },
     "execution_count": 119,
     "metadata": {},
     "output_type": "execute_result"
    }
   ],
   "source": [
    "# import fionas crs and add it to the crs of the shapefile\n",
    "from fiona.crs import to_string, from_string, from_epsg\n",
    "pnt_gdf.crs = from_epsg(4326)\n",
    "pnt_gdf.crs"
   ]
  },
  {
   "cell_type": "code",
   "execution_count": 120,
   "metadata": {},
   "outputs": [
    {
     "name": "stderr",
     "output_type": "stream",
     "text": [
      "C:\\Program Files\\Anaconda2\\lib\\site-packages\\ipykernel_launcher.py:4: FutureWarning: Method `add_children` is deprecated. Please use `add_child` instead.\n",
      "  after removing the cwd from sys.path.\n"
     ]
    },
    {
     "data": {
      "text/html": [
       "<div style=\"width:100%;\"><div style=\"position:relative;width:100%;height:0;padding-bottom:60%;\"><iframe src=\"data:text/html;charset=utf-8;base64,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\" style=\"position:absolute;width:100%;height:100%;left:0;top:0;border:none !important;\" allowfullscreen webkitallowfullscreen mozallowfullscreen></iframe></div></div>"
      ],
      "text/plain": [
       "<folium.folium.Map at 0x13a17630>"
      ]
     },
     "execution_count": 120,
     "metadata": {},
     "output_type": "execute_result"
    }
   ],
   "source": [
    "#Create SF basemap specifying map center, zoom level, and using the default OpenStreetMap tiles\n",
    "mapa = folium.Map([40.606268, -91.040762], zoom_start = 7)\n",
    "map_points= folium.features.GeoJson(pnt_gdf) # transforming the geodataframe into a json file to get read by leaflet\n",
    "mapa.add_children(map_points)\n",
    "mapa"
   ]
  },
  {
   "cell_type": "markdown",
   "metadata": {},
   "source": [
    "### GIS operations "
   ]
  },
  {
   "cell_type": "markdown",
   "metadata": {},
   "source": [
    "buffer"
   ]
  },
  {
   "cell_type": "code",
   "execution_count": 146,
   "metadata": {},
   "outputs": [],
   "source": [
    "from shapely.geometry import mapping, shape\n",
    "from fiona import collection\n",
    "\n",
    "with collection(\"C:\\Users\\esergios\\Desktop\\points.shp\", \"r\") as input:\n",
    "\n",
    "    schema = {'properties': { 'name': 'str' } , 'geometry': 'Polygon'}\n",
    "    \n",
    "    with collection(r\"C:\\Users\\esergios\\Desktop\\_buffer_points.shp\", \"w\", \"ESRI Shapefile\", schema) as output:\n",
    "        \n",
    "        for point in input:\n",
    "            output.write({\n",
    "                'properties': {\n",
    "                    'name': point['properties']['name']\n",
    "                },\n",
    "                'geometry': mapping(shape(point['geometry']).buffer(5.0))\n",
    "            })"
   ]
  },
  {
   "cell_type": "code",
   "execution_count": 147,
   "metadata": {},
   "outputs": [
    {
     "name": "stderr",
     "output_type": "stream",
     "text": [
      "C:\\Program Files\\Anaconda2\\lib\\site-packages\\ipykernel_launcher.py:6: FutureWarning: Method `add_children` is deprecated. Please use `add_child` instead.\n",
      "  \n"
     ]
    },
    {
     "data": {
      "text/html": [
       "<div style=\"width:100%;\"><div style=\"position:relative;width:100%;height:0;padding-bottom:60%;\"><iframe src=\"data:text/html;charset=utf-8;base64,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\" style=\"position:absolute;width:100%;height:100%;left:0;top:0;border:none !important;\" allowfullscreen webkitallowfullscreen mozallowfullscreen></iframe></div></div>"
      ],
      "text/plain": [
       "<folium.folium.Map at 0x147b43c8>"
      ]
     },
     "execution_count": 147,
     "metadata": {},
     "output_type": "execute_result"
    }
   ],
   "source": [
    "# and check how do they look like\n",
    "buf = geopandas.GeoDataFrame.from_file(r\"C:\\Users\\esergios\\Desktop\\_buffer_points.shp\") \n",
    "buf.crs = from_epsg(4326)\n",
    "mapa = folium.Map([40.606268, -91.040762], zoom_start = 5)\n",
    "buf_plgs= folium.features.GeoJson(buf) # transforming the geodataframe into a json file to get read by leaflet\n",
    "mapa.add_children(buf_plgs)\n",
    "mapa"
   ]
  },
  {
   "cell_type": "markdown",
   "metadata": {},
   "source": [
    "union"
   ]
  },
  {
   "cell_type": "code",
   "execution_count": 149,
   "metadata": {},
   "outputs": [],
   "source": [
    "from shapely.geometry import mapping, shape\n",
    "from shapely.ops import cascaded_union\n",
    "from fiona import collection\n",
    "\n",
    "with collection(r\"C:\\Users\\esergios\\Desktop\\_buffer_points.shp\", \"r\") as input:\n",
    "    \n",
    "    schema = input.schema.copy()\n",
    "    \n",
    "    with collection(\"C:\\Users\\esergios\\Desktop\\_buffer_points_union.shp\", \"w\", \"ESRI Shapefile\", schema) as output:\n",
    "        \n",
    "        # create an empty list to add the shapes\n",
    "        shapes = []\n",
    "        \n",
    "        for f in input:\n",
    "            shapes.append(shape(f['geometry']))\n",
    "        merged = cascaded_union(shapes)\n",
    "        \n",
    "        output.write({\n",
    "            'properties': {\n",
    "                'name': 'Buffer Area'\n",
    "                },\n",
    "            'geometry': mapping(merged)\n",
    "            })"
   ]
  },
  {
   "cell_type": "code",
   "execution_count": 150,
   "metadata": {},
   "outputs": [
    {
     "name": "stderr",
     "output_type": "stream",
     "text": [
      "C:\\Program Files\\Anaconda2\\lib\\site-packages\\ipykernel_launcher.py:6: FutureWarning: Method `add_children` is deprecated. Please use `add_child` instead.\n",
      "  \n"
     ]
    },
    {
     "data": {
      "text/html": [
       "<div style=\"width:100%;\"><div style=\"position:relative;width:100%;height:0;padding-bottom:60%;\"><iframe src=\"data:text/html;charset=utf-8;base64,PCFET0NUWVBFIGh0bWw+CjxoZWFkPiAgICAKICAgIDxtZXRhIGh0dHAtZXF1aXY9ImNvbnRlbnQtdHlwZSIgY29udGVudD0idGV4dC9odG1sOyBjaGFyc2V0PVVURi04IiAvPgogICAgPHNjcmlwdD5MX1BSRUZFUl9DQU5WQVMgPSBmYWxzZTsgTF9OT19UT1VDSCA9IGZhbHNlOyBMX0RJU0FCTEVfM0QgPSBmYWxzZTs8L3NjcmlwdD4KICAgIDxzY3JpcHQgc3JjPSJodHRwczovL2Nkbi5qc2RlbGl2ci5uZXQvbnBtL2xlYWZsZXRAMS4yLjAvZGlzdC9sZWFmbGV0LmpzIj48L3NjcmlwdD4KICAgIDxzY3JpcHQgc3JjPSJodHRwczovL2FqYXguZ29vZ2xlYXBpcy5jb20vYWpheC9saWJzL2pxdWVyeS8xLjExLjEvanF1ZXJ5Lm1pbi5qcyI+PC9zY3JpcHQ+CiAgICA8c2NyaXB0IHNyYz0iaHR0cHM6Ly9tYXhjZG4uYm9vdHN0cmFwY2RuLmNvbS9ib290c3RyYXAvMy4yLjAvanMvYm9vdHN0cmFwLm1pbi5qcyI+PC9zY3JpcHQ+CiAgICA8c2NyaXB0IHNyYz0iaHR0cHM6Ly9jZG5qcy5jbG91ZGZsYXJlLmNvbS9hamF4L2xpYnMvTGVhZmxldC5hd2Vzb21lLW1hcmtlcnMvMi4wLjIvbGVhZmxldC5hd2Vzb21lLW1hcmtlcnMuanMiPjwvc2NyaXB0PgogICAgPGxpbmsgcmVsPSJzdHlsZXNoZWV0IiBocmVmPSJodHRwczovL2Nkbi5qc2RlbGl2ci5uZXQvbnBtL2xlYWZsZXRAMS4yLjAvZGlzdC9sZWFmbGV0LmNzcyIgLz4KICAgIDxsaW5rIHJlbD0ic3R5bGVzaGVldCIgaHJlZj0iaHR0cHM6Ly9tYXhjZG4uYm9vdHN0cmFwY2RuLmNvbS9ib290c3RyYXAvMy4yLjAvY3NzL2Jvb3RzdHJhcC5taW4uY3NzIiAvPgogICAgPGxpbmsgcmVsPSJzdHlsZXNoZWV0IiBocmVmPSJodHRwczovL21heGNkbi5ib290c3RyYXBjZG4uY29tL2Jvb3RzdHJhcC8zLjIuMC9jc3MvYm9vdHN0cmFwLXRoZW1lLm1pbi5jc3MiIC8+CiAgICA8bGluayByZWw9InN0eWxlc2hlZXQiIGhyZWY9Imh0dHBzOi8vbWF4Y2RuLmJvb3RzdHJhcGNkbi5jb20vZm9udC1hd2Vzb21lLzQuNi4zL2Nzcy9mb250LWF3ZXNvbWUubWluLmNzcyIgLz4KICAgIDxsaW5rIHJlbD0ic3R5bGVzaGVldCIgaHJlZj0iaHR0cHM6Ly9jZG5qcy5jbG91ZGZsYXJlLmNvbS9hamF4L2xpYnMvTGVhZmxldC5hd2Vzb21lLW1hcmtlcnMvMi4wLjIvbGVhZmxldC5hd2Vzb21lLW1hcmtlcnMuY3NzIiAvPgogICAgPGxpbmsgcmVsPSJzdHlsZXNoZWV0IiBocmVmPSJodHRwczovL3Jhd2dpdC5jb20vcHl0aG9uLXZpc3VhbGl6YXRpb24vZm9saXVtL21hc3Rlci9mb2xpdW0vdGVtcGxhdGVzL2xlYWZsZXQuYXdlc29tZS5yb3RhdGUuY3NzIiAvPgogICAgPHN0eWxlPmh0bWwsIGJvZHkge3dpZHRoOiAxMDAlO2hlaWdodDogMTAwJTttYXJnaW46IDA7cGFkZGluZzogMDt9PC9zdHlsZT4KICAgIDxzdHlsZT4jbWFwIHtwb3NpdGlvbjphYnNvbHV0ZTt0b3A6MDtib3R0b206MDtyaWdodDowO2xlZnQ6MDt9PC9zdHlsZT4KICAgIAogICAgICAgICAgICA8c3R5bGU+ICNtYXBfNjIyYzY2MTkyZTcxNDBiZWEzYjQ5ZWQ0NWM3NjViODQgewogICAgICAgICAgICAgICAgcG9zaXRpb24gOiByZWxhdGl2ZTsKICAgICAgICAgICAgICAgIHdpZHRoIDogMTAwLjAlOwogICAgICAgICAgICAgICAgaGVpZ2h0OiAxMDAuMCU7CiAgICAgICAgICAgICAgICBsZWZ0OiAwLjAlOwogICAgICAgICAgICAgICAgdG9wOiAwLjAlOwogICAgICAgICAgICAgICAgfQogICAgICAgICAgICA8L3N0eWxlPgogICAgICAgIAo8L2hlYWQ+Cjxib2R5PiAgICAKICAgIAogICAgICAgICAgICA8ZGl2IGNsYXNzPSJmb2xpdW0tbWFwIiBpZD0ibWFwXzYyMmM2NjE5MmU3MTQwYmVhM2I0OWVkNDVjNzY1Yjg0IiA+PC9kaXY+CiAgICAgICAgCjwvYm9keT4KPHNjcmlwdD4gICAgCiAgICAKCiAgICAgICAgICAgIAogICAgICAgICAgICAgICAgdmFyIGJvdW5kcyA9IG51bGw7CiAgICAgICAgICAgIAoKICAgICAgICAgICAgdmFyIG1hcF82MjJjNjYxOTJlNzE0MGJlYTNiNDllZDQ1Yzc2NWI4NCA9IEwubWFwKAogICAgICAgICAgICAgICAgICAgICAgICAgICAgICAgICAgJ21hcF82MjJjNjYxOTJlNzE0MGJlYTNiNDllZDQ1Yzc2NWI4NCcsCiAgICAgICAgICAgICAgICAgICAgICAgICAgICAgICAgICB7Y2VudGVyOiBbNDAuNjA2MjY4LC05MS4wNDA3NjJdLAogICAgICAgICAgICAgICAgICAgICAgICAgICAgICAgICAgem9vbTogNSwKICAgICAgICAgICAgICAgICAgICAgICAgICAgICAgICAgIG1heEJvdW5kczogYm91bmRzLAogICAgICAgICAgICAgICAgICAgICAgICAgICAgICAgICAgbGF5ZXJzOiBbXSwKICAgICAgICAgICAgICAgICAgICAgICAgICAgICAgICAgIHdvcmxkQ29weUp1bXA6IGZhbHNlLAogICAgICAgICAgICAgICAgICAgICAgICAgICAgICAgICAgY3JzOiBMLkNSUy5FUFNHMzg1NwogICAgICAgICAgICAgICAgICAgICAgICAgICAgICAgICB9KTsKICAgICAgICAgICAgCiAgICAgICAgCiAgICAKICAgICAgICAgICAgdmFyIHRpbGVfbGF5ZXJfYzA2MTM3ODJmYzQwNDg1ZWIxZmI3MWIyM2JmZTgyNTIgPSBMLnRpbGVMYXllcigKICAgICAgICAgICAgICAgICdodHRwczovL3tzfS50aWxlLm9wZW5zdHJlZXRtYXAub3JnL3t6fS97eH0ve3l9LnBuZycsCiAgICAgICAgICAgICAgICB7CiAgImF0dHJpYnV0aW9uIjogbnVsbCwgCiAgImRldGVjdFJldGluYSI6IGZhbHNlLCAKICAibWF4Wm9vbSI6IDE4LCAKICAibWluWm9vbSI6IDEsIAogICJub1dyYXAiOiBmYWxzZSwgCiAgInN1YmRvbWFpbnMiOiAiYWJjIgp9CiAgICAgICAgICAgICAgICApLmFkZFRvKG1hcF82MjJjNjYxOTJlNzE0MGJlYTNiNDllZDQ1Yzc2NWI4NCk7CiAgICAgICAgCiAgICAKCiAgICAgICAgICAgIAoKICAgICAgICAgICAgICAgIHZhciBnZW9fanNvbl8wZDQ2NmEzYzg3NTY0N2Q5YTU3ZTYzZDEzN2M2MjQ0MyA9IEwuZ2VvSnNvbigKICAgICAgICAgICAgICAgICAgICB7ImJib3giOiBbLTk5LjU4NCwgMzQuMTAxLCAtODIuNjMsIDQ2Ljg4XSwgImZlYXR1cmVzIjogW3siYmJveCI6IFstOTkuNTg0LCAzNC4xMDEsIC04Mi42MywgNDYuODhdLCAiZ2VvbWV0cnkiOiB7ImNvb3JkaW5hdGVzIjogW1tbLTg5Ljg4MTI5NjQwNjI5MjA0LCAzNy40MjA0MDczMTg1ODEwNF0sIFstODkuOTY0NjAyMzM3NDQzNTcsIDM3LjE4NzU4MjgzODE3NDU1XSwgWy05MC4xNzQzOTM2NzgyNTgyMywgMzYuNzQ0MDE2MzE1ODcwMDFdLCBbLTkwLjQyNjY1MTkzODQ4NzI4LCAzNi4zMjMxNDg4MzQ5MDE5OV0sIFstOTAuNzE4OTQ3NzMzMTg2MzEsIDM1LjkyOTAzMzU3OTE4MTc4XSwgWy05MS4wNDg0NjYwOTQwNjcyNywgMzUuNTY1NDY2MDk0MDY3MjZdLCBbLTkxLjQxMjAzMzU3OTE4MTc3LCAzNS4yMzU5NDc3MzMxODYzMTVdLCBbLTkxLjgwNjE0ODgzNDkwMTk5LCAzNC45NDM2NTE5Mzg0ODcyOF0sIFstOTIuMjI3MDE2MzE1ODcsIDM0LjY5MTM5MzY3ODI1ODIzXSwgWy05Mi42NzA1ODI4MzgxNzQ1NSwgMzQuNDgxNjAyMzM3NDQzNTddLCBbLTkzLjEzMjU3NjYxMzcyNzY4LCAzNC4zMTYyOTgzMjEzMzg5NTVdLCBbLTkzLjYwODU0ODM4OTkxOTM1LCAzNC4xOTcwNzM1OTc5ODM4NDVdLCBbLTk0LjA5MzkxNDI5ODM1MjE5LCAzNC4xMjUwNzYzNjY2MzkwMTRdLCBbLTk0LjU4NCwgMzQuMTAxXSwgWy05NS4wNzQwODU3MDE2NDc4LCAzNC4xMjUwNzYzNjY2MzkwMTRdLCBbLTk1LjU1OTQ1MTYxMDA4MDYzLCAzNC4xOTcwNzM1OTc5ODM4NDVdLCBbLTk2LjAzNTQyMzM4NjI3MjMsIDM0LjMxNjI5ODMyMTMzODk1XSwgWy05Ni40OTc0MTcxNjE4MjU0NCwgMzQuNDgxNjAyMzM3NDQzNTZdLCBbLTk2Ljk0MDk4MzY4NDEyOTk4LCAzNC42OTEzOTM2NzgyNTgyM10sIFstOTcuMzYxODUxMTY1MDk4LCAzNC45NDM2NTE5Mzg0ODcyNjRdLCBbLTk3Ljc1NTk2NjQyMDgxODIzLCAzNS4yMzU5NDc3MzMxODYzMV0sIFstOTguMTE5NTMzOTA1OTMyNzQsIDM1LjU2NTQ2NjA5NDA2NzI1NF0sIFstOTguNDQ5MDUyMjY2ODEzNjgsIDM1LjkyOTAzMzU3OTE4MTc2XSwgWy05OC43NDEzNDgwNjE1MTI3NCwgMzYuMzIzMTQ4ODM0OTAxOThdLCBbLTk4Ljk5MzYwNjMyMTc0MTc4LCAzNi43NDQwMTYzMTU4NzAwMDZdLCBbLTk5LjIwMzM5NzY2MjU1NjQ0LCAzNy4xODc1ODI4MzgxNzQ1NF0sIFstOTkuMzY4NzAxNjc4NjYxMDQsIDM3LjY0OTU3NjYxMzcyNzY4XSwgWy05OS40ODc5MjY0MDIwMTYxNiwgMzguMTI1NTQ4Mzg5OTE5MzZdLCBbLTk5LjU1OTkyMzYzMzM2MDk4LCAzOC42MTA5MTQyOTgzNTIxOV0sIFstOTkuNTg0LCAzOS4xMDA5OTk5OTk5OTk5OV0sIFstOTkuNTU5OTIzNjMzMzYxLCAzOS41OTEwODU3MDE2NDc4XSwgWy05OS40ODc5MjY0MDIwMTYxNiwgNDAuMDc2NDUxNjEwMDgwNjRdLCBbLTk5LjM2ODcwMTY3ODY2MTA1LCA0MC41NTI0MjMzODYyNzIzMV0sIFstOTkuMjAzMzk3NjYyNTU2NDQsIDQxLjAxNDQxNzE2MTgyNTQ0XSwgWy05OC45OTM2MDYzMjE3NDE3OCwgNDEuNDU3OTgzNjg0MTI5OTg1XSwgWy05OC43NDEzNDgwNjE1MTI3NCwgNDEuODc4ODUxMTY1MDk4MDFdLCBbLTk4LjQ0OTA1MjI2NjgxMzcsIDQyLjI3Mjk2NjQyMDgxODIzXSwgWy05OC4xMTk1MzM5MDU5MzI3NCwgNDIuNjM2NTMzOTA1OTMyNzRdLCBbLTk3Ljc1NTk2NjQyMDgxODIzLCA0Mi45NjYwNTIyNjY4MTM2OF0sIFstOTcuMzYxODUxMTY1MDk4MDIsIDQzLjI1ODM0ODA2MTUxMjcyXSwgWy05Ni45NDA5ODM2ODQxMywgNDMuNTEwNjA2MzIxNzQxNzc2XSwgWy05Ni40OTc0MTcxNjE4MjU0NSwgNDMuNzIwMzk3NjYyNTU2NDNdLCBbLTk2LjAzNTQyMzM4NjI3MjM0LCA0My44ODU3MDE2Nzg2NjEwNF0sIFstOTUuNTU5NDUxNjEwMDgwNjYsIDQ0LjAwNDkyNjQwMjAxNjE1XSwgWy05NS4wNzQwODU3MDE2NDc4MiwgNDQuMDc2OTIzNjMzMzYwOTg0XSwgWy05NC41ODQwMDAwMDAwMDAwMiwgNDQuMTAxXSwgWy05NC4wOTM5MTQyOTgzNTIyMiwgNDQuMDc2OTIzNjMzMzYwOTg0XSwgWy05My42MDg1NDgzODk5MTkzOCwgNDQuMDA0OTI2NDAyMDE2MTVdLCBbLTkzLjEzMjU3NjYxMzcyNzcxLCA0My44ODU3MDE2Nzg2NjEwNV0sIFstOTIuNjcwNTgyODM4MTc0NTgsIDQzLjcyMDM5NzY2MjU1NjQ0NF0sIFstOTIuMzMyNzAzNTkzNzA3OTYsIDQzLjU2MDU5MjY4MTQxODk2XSwgWy05Mi4yNDkzOTc2NjI1NTY0MywgNDMuNzkzNDE3MTYxODI1NDQ1XSwgWy05Mi4wMzk2MDYzMjE3NDE3NywgNDQuMjM2OTgzNjg0MTI5OTldLCBbLTkxLjc4NzM0ODA2MTUxMjcyLCA0NC42NTc4NTExNjUwOTgwMV0sIFstOTEuNDk1MDUyMjY2ODEzNjksIDQ1LjA1MTk2NjQyMDgxODIzXSwgWy05MS4xNjU1MzM5MDU5MzI3MywgNDUuNDE1NTMzOTA1OTMyNzRdLCBbLTkwLjgwMTk2NjQyMDgxODIyLCA0NS43NDUwNTIyNjY4MTM2OV0sIFstOTAuNDA3ODUxMTY1MDk4MDEsIDQ2LjAzNzM0ODA2MTUxMjcyXSwgWy04OS45ODY5ODM2ODQxMywgNDYuMjg5NjA2MzIxNzQxNzddLCBbLTg5LjU0MzQxNzE2MTgyNTQ1LCA0Ni40OTkzOTc2NjI1NTY0M10sIFstODkuMDgxNDIzMzg2MjcyMzIsIDQ2LjY2NDcwMTY3ODY2MTA1XSwgWy04OC42MDU0NTE2MTAwODA2NSwgNDYuNzgzOTI2NDAyMDE2MTVdLCBbLTg4LjEyMDA4NTcwMTY0NzgxLCA0Ni44NTU5MjM2MzMzNjA5OV0sIFstODcuNjMwMDAwMDAwMDAwMDEsIDQ2Ljg4XSwgWy04Ny4xMzk5MTQyOTgzNTIyMSwgNDYuODU1OTIzNjMzMzYwOTldLCBbLTg2LjY1NDU0ODM4OTkxOTM3LCA0Ni43ODM5MjY0MDIwMTYxNl0sIFstODYuMTc4NTc2NjEzNzI3NywgNDYuNjY0NzAxNjc4NjYxMDZdLCBbLTg1LjcxNjU4MjgzODE3NDU2LCA0Ni40OTkzOTc2NjI1NTY0NV0sIFstODUuMjczMDE2MzE1ODcwMDIsIDQ2LjI4OTYwNjMyMTc0MTc4Nl0sIFstODQuODUyMTQ4ODM0OTAyMDEsIDQ2LjAzNzM0ODA2MTUxMjc0NV0sIFstODQuNDU4MDMzNTc5MTgxNzksIDQ1Ljc0NTA1MjI2NjgxMzddLCBbLTg0LjA5NDQ2NjA5NDA2NzI3LCA0NS40MTU1MzM5MDU5MzI3Nl0sIFstODMuNzY0OTQ3NzMzMTg2MzMsIDQ1LjA1MTk2NjQyMDgxODI1XSwgWy04My40NzI2NTE5Mzg0ODcyOSwgNDQuNjU3ODUxMTY1MDk4MDRdLCBbLTgzLjIyMDM5MzY3ODI1ODIzLCA0NC4yMzY5ODM2ODQxMzAwMl0sIFstODMuMDEwNjAyMzM3NDQzNTcsIDQzLjc5MzQxNzE2MTgyNTQ4XSwgWy04Mi44NDUyOTgzMjEzMzg5NiwgNDMuMzMxNDIzMzg2MjcyMzVdLCBbLTgyLjcyNjA3MzU5Nzk4Mzg2LCA0Mi44NTU0NTE2MTAwODA2OF0sIFstODIuNjU0MDc2MzY2NjM5MDIsIDQyLjM3MDA4NTcwMTY0Nzg0NV0sIFstODIuNjMsIDQxLjg4MDAwMDAwMDAwMDA0NV0sIFstODIuNjMsIDQxLjg4XSwgWy04Mi42NTQwNzYzNjY2MzksIDQxLjM4OTkxNDI5ODM1MjJdLCBbLTgyLjcyNjA3MzU5Nzk4Mzg0LCA0MC45MDQ1NDgzODk5MTkzNl0sIFstODIuODQ1Mjk4MzIxMzM4OTQsIDQwLjQyODU3NjYxMzcyNzY5XSwgWy04My4wMTA2MDIzMzc0NDM1NiwgMzkuOTY2NTgyODM4MTc0NTVdLCBbLTgzLjIyMDM5MzY3ODI1ODIyLCAzOS41MjMwMTYzMTU4NzAwMl0sIFstODMuNDcyNjUxOTM4NDg3MjcsIDM5LjEwMjE0ODgzNDkwMTk5Nl0sIFstODMuNzY0OTQ3NzMzMTg2MywgMzguNzA4MDMzNTc5MTgxNzhdLCBbLTg0LjA5NDQ2NjA5NDA2NzI2LCAzOC4zNDQ0NjYwOTQwNjcyNjVdLCBbLTg0LjQ1ODAzMzU3OTE4MTc2LCAzOC4wMTQ5NDc3MzMxODYzMl0sIFstODQuODUyMTQ4ODM0OTAxOTgsIDM3LjcyMjY1MTkzODQ4NzI4XSwgWy04NS4yNzMwMTYzMTU4NywgMzcuNDcwMzkzNjc4MjU4MjNdLCBbLTg1LjcxNjU4MjgzODE3NDU1LCAzNy4yNjA2MDIzMzc0NDM1N10sIFstODYuMTc4NTc2NjEzNzI3NjcsIDM3LjA5NTI5ODMyMTMzODk2XSwgWy04Ni42NTQ1NDgzODk5MTkzNiwgMzYuOTc2MDczNTk3OTgzODVdLCBbLTg3LjEzOTkxNDI5ODM1MjE4LCAzNi45MDQwNzYzNjY2MzkwMl0sIFstODcuNjI5OTk5OTk5OTk5OTgsIDM2Ljg4XSwgWy04OC4xMjAwODU3MDE2NDc4LCAzNi45MDQwNzYzNjY2MzkwMl0sIFstODguNjA1NDUxNjEwMDgwNjIsIDM2Ljk3NjA3MzU5Nzk4Mzg1XSwgWy04OS4wODE0MjMzODYyNzIyOSwgMzcuMDk1Mjk4MzIxMzM4OTZdLCBbLTg5LjU0MzQxNzE2MTgyNTQzLCAzNy4yNjA2MDIzMzc0NDM1N10sIFstODkuODgxMjk2NDA2MjkyMDQsIDM3LjQyMDQwNzMxODU4MTA0XV1dLCAidHlwZSI6ICJQb2x5Z29uIn0sICJpZCI6ICIwIiwgInByb3BlcnRpZXMiOiB7ImhpZ2hsaWdodCI6IHt9LCAibmFtZSI6ICJCdWZmZXIgQXJlYSIsICJzdHlsZSI6IHt9fSwgInR5cGUiOiAiRmVhdHVyZSJ9XSwgInR5cGUiOiAiRmVhdHVyZUNvbGxlY3Rpb24ifQogICAgICAgICAgICAgICAgICAgIAogICAgICAgICAgICAgICAgICAgICkuYWRkVG8obWFwXzYyMmM2NjE5MmU3MTQwYmVhM2I0OWVkNDVjNzY1Yjg0KTsKICAgICAgICAgICAgICAgIGdlb19qc29uXzBkNDY2YTNjODc1NjQ3ZDlhNTdlNjNkMTM3YzYyNDQzLnNldFN0eWxlKGZ1bmN0aW9uKGZlYXR1cmUpIHtyZXR1cm4gZmVhdHVyZS5wcm9wZXJ0aWVzLnN0eWxlO30pOwoKICAgICAgICAgICAgCjwvc2NyaXB0Pg==\" style=\"position:absolute;width:100%;height:100%;left:0;top:0;border:none !important;\" allowfullscreen webkitallowfullscreen mozallowfullscreen></iframe></div></div>"
      ],
      "text/plain": [
       "<folium.folium.Map at 0x13930cf8>"
      ]
     },
     "execution_count": 150,
     "metadata": {},
     "output_type": "execute_result"
    }
   ],
   "source": [
    "# and check how do they look like\n",
    "buf_un = geopandas.GeoDataFrame.from_file(\"C:\\Users\\esergios\\Desktop\\_buffer_points_union.shp\") \n",
    "buf_un.crs = from_epsg(4326)\n",
    "mapa = folium.Map([40.606268, -91.040762], zoom_start = 5)\n",
    "buf_un_plgs= folium.features.GeoJson(buf_un) # transforming the geodataframe into a json file to get read by leaflet\n",
    "mapa.add_children(buf_un_plgs)\n",
    "mapa"
   ]
  }
 ],
 "metadata": {
  "kernelspec": {
   "display_name": "Python 2",
   "language": "python",
   "name": "python2"
  },
  "language_info": {
   "codemirror_mode": {
    "name": "ipython",
    "version": 2
   },
   "file_extension": ".py",
   "mimetype": "text/x-python",
   "name": "python",
   "nbconvert_exporter": "python",
   "pygments_lexer": "ipython2",
   "version": "2.7.13"
  }
 },
 "nbformat": 4,
 "nbformat_minor": 2
}
